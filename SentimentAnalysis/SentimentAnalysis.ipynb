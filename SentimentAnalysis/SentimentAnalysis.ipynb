{
 "cells": [
  {
   "cell_type": "markdown",
   "metadata": {},
   "source": [
    "# 电影评论情感分类     \n",
    "\n",
    "本实验将中文电影评论分类为“positive”、“negative”。\n",
    "\n",
    "首先导入必要的库："
   ]
  },
  {
   "cell_type": "code",
   "execution_count": 1,
   "metadata": {},
   "outputs": [],
   "source": [
    "import gensim\n",
    "import torch\n",
    "import torch.nn as nn\n",
    "import torch.nn.functional as F\n",
    "import numpy as np\n",
    "import matplotlib.pyplot as plt\n",
    "import time\n",
    "from collections import Counter\n",
    "from torch.utils.data import TensorDataset,DataLoader\n",
    "from torch.optim.lr_scheduler import *"
   ]
  },
  {
   "cell_type": "markdown",
   "metadata": {},
   "source": [
    "# 加载数据集\n",
    "\n",
    "数据集包括：\n",
    "1. 训练集。包含2W条左右中文电影评论，其中正负向评论各1W条左右。\n",
    "2. 验证集。包含6K条左右中文电影评论，其中正负向评论各3K条左右。\n",
    "3. 测试集。包含360条左右中文电影评论，其中正负向评论各180条左右。\n",
    "4. 预训练词向量。中文维基百科词向量word2vec。"
   ]
  },
  {
   "cell_type": "markdown",
   "metadata": {},
   "source": [
    "(1) 构建词汇表并存储，形如{word: id}："
   ]
  },
  {
   "cell_type": "code",
   "execution_count": 2,
   "metadata": {},
   "outputs": [],
   "source": [
    "def build_word2id(file, save_to_path=None):\n",
    "    \"\"\"\n",
    "    :param file: word2id保存地址\n",
    "    :param save_to_path: 保存训练语料库中的词组对应的word2vec到本地\n",
    "    :return: None\n",
    "    \"\"\"\n",
    "    word2id = {'_PAD_': 0}\n",
    "    path = ['./Dataset/train.txt', './Dataset/validation.txt']\n",
    "    \n",
    "    for _path in path:\n",
    "        with open(_path, encoding='utf-8') as f:\n",
    "            for line in f.readlines():\n",
    "                sp = line.strip().split()\n",
    "                for word in sp[1:]:\n",
    "                    if word not in word2id.keys():\n",
    "                        word2id[word] = len(word2id)\n",
    "    if save_to_path:                    \n",
    "        with open(file, 'w', encoding='utf-8') as f:\n",
    "            for w in word2id:\n",
    "                f.write(w+'\\t')\n",
    "                f.write(str(word2id[w]))\n",
    "                f.write('\\n')\n",
    "    \n",
    "    return word2id"
   ]
  },
  {
   "cell_type": "markdown",
   "metadata": {},
   "source": [
    "(2)基于预训练的word2vec构建训练语料中所含词语的word2vec："
   ]
  },
  {
   "cell_type": "code",
   "execution_count": 3,
   "metadata": {},
   "outputs": [],
   "source": [
    "def build_word2vec(fname, word2id, save_to_path=None):\n",
    "    \"\"\"\n",
    "    :param fname: 预训练的word2vec.\n",
    "    :param word2id: 语料文本中包含的词汇集.\n",
    "    :param save_to_path: 保存训练语料库中的词组对应的word2vec到本地\n",
    "    :return: 语料文本中词汇集对应的word2vec向量{id: word2vec}.\n",
    "    \"\"\"\n",
    "    n_words = max(word2id.values()) + 1\n",
    "    model = gensim.models.KeyedVectors.load_word2vec_format(fname, binary=True)\n",
    "    word_vecs = np.array(np.random.uniform(-1., 1., [n_words, model.vector_size]))\n",
    "    for word in word2id.keys():\n",
    "        try:\n",
    "            word_vecs[word2id[word]] = model[word]\n",
    "        except KeyError:\n",
    "            pass\n",
    "    if save_to_path:\n",
    "        with open(save_to_path, 'w', encoding='utf-8') as f:\n",
    "            for vec in word_vecs:\n",
    "                vec = [str(w) for w in vec]\n",
    "                f.write(' '.join(vec))\n",
    "                f.write('\\n')\n",
    "    return word_vecs"
   ]
  },
  {
   "cell_type": "markdown",
   "metadata": {},
   "source": [
    "(3)分类类别以及id对应词典{pos:0, neg:1}："
   ]
  },
  {
   "cell_type": "code",
   "execution_count": 4,
   "metadata": {},
   "outputs": [],
   "source": [
    "def cat_to_id(classes=None):\n",
    "    \"\"\"\n",
    "    :param classes: 分类标签；默认为0:pos, 1:neg\n",
    "    :return: {分类标签：id}\n",
    "    \"\"\"\n",
    "    if not classes:\n",
    "        classes = ['0', '1']\n",
    "    cat2id = {cat: idx for (idx, cat) in enumerate(classes)}\n",
    "    return classes, cat2id"
   ]
  },
  {
   "cell_type": "markdown",
   "metadata": {},
   "source": [
    "(4)加载语料库：train/dev/test："
   ]
  },
  {
   "cell_type": "code",
   "execution_count": 5,
   "metadata": {},
   "outputs": [],
   "source": [
    "def load_corpus(path, word2id, max_sen_len=50):\n",
    "    \"\"\"\n",
    "    :param path: 样本语料库的文件\n",
    "    :return: 文本内容contents，以及分类标签labels(onehot形式)\n",
    "    \"\"\"\n",
    "    _, cat2id = cat_to_id()\n",
    "    contents, labels = [], []\n",
    "    with open(path, encoding='utf-8') as f:\n",
    "        for line in f.readlines():\n",
    "            sp = line.strip().split()\n",
    "            label = sp[0]\n",
    "            content = [word2id.get(w, 0) for w in sp[1:]]\n",
    "            content = content[:max_sen_len]\n",
    "            if len(content) < max_sen_len:\n",
    "                content += [word2id['_PAD_']] * (max_sen_len - len(content))\n",
    "            labels.append(label)\n",
    "            contents.append(content)\n",
    "    counter = Counter(labels)\n",
    "    print('Total sample num：%d' % (len(labels)))\n",
    "    print('class num：')\n",
    "    for w in counter:\n",
    "        print(w, counter[w])\n",
    "\n",
    "    contents = np.asarray(contents)\n",
    "    labels = np.array([cat2id[l] for l in labels])\n",
    "\n",
    "    return contents, labels"
   ]
  },
  {
   "cell_type": "code",
   "execution_count": 6,
   "metadata": {},
   "outputs": [
    {
     "name": "stdout",
     "output_type": "stream",
     "text": [
      "train set: \n",
      "Total sample num：19998\n",
      "class num：\n",
      "1 9999\n",
      "0 9999\n",
      "\n",
      "validation set: \n",
      "Total sample num：5629\n",
      "class num：\n",
      "1 2812\n",
      "0 2817\n",
      "\n",
      "test set: \n",
      "Total sample num：369\n",
      "class num：\n",
      "1 187\n",
      "0 182\n"
     ]
    }
   ],
   "source": [
    "word2id = build_word2id('./Dataset/word2id.txt')\n",
    "# print(word2id)\n",
    "word2vec = build_word2vec('./Dataset/wiki_word2vec_50.bin', word2id)\n",
    "assert word2vec.shape == (58954, 50)\n",
    "# print(word2vec)\n",
    "print('train set: ')\n",
    "train_contents, train_labels = load_corpus('./Dataset/train.txt', word2id, max_sen_len=50)\n",
    "print('\\nvalidation set: ')\n",
    "val_contents, val_labels = load_corpus('./Dataset/validation.txt', word2id, max_sen_len=50)\n",
    "print('\\ntest set: ')\n",
    "test_contents, test_labels = load_corpus('./Dataset/test.txt', word2id, max_sen_len=50)"
   ]
  },
  {
   "cell_type": "markdown",
   "metadata": {},
   "source": [
    "经过数据预处理，数据的格式如下：\n",
    "- x: [1434, 5454, 2323, ..., 0, 0, 0]\n",
    "- y: [1]\n",
    "\n",
    "x为构成一条语句的单词所对应的id。 y为类别: pos：0, neg：1。"
   ]
  },
  {
   "cell_type": "markdown",
   "metadata": {},
   "source": [
    "# 构建模型\n",
    "\n",
    "构建Text-CNN模型，模型结构如下图所示：\n",
    "\n",
    "![](https://pic.downk.cc/item/5e9bc837c2a9a83be5a96d95.jpg)\n",
    "\n",
    "模型包括词嵌入层、卷积层、池化层和全连接层。"
   ]
  },
  {
   "cell_type": "markdown",
   "metadata": {},
   "source": [
    "(1)配置模型相关参数，在COINFIG类中完成："
   ]
  },
  {
   "cell_type": "code",
   "execution_count": 7,
   "metadata": {},
   "outputs": [],
   "source": [
    "class CONFIG():\n",
    "    update_w2v = True           # 是否在训练中更新w2v\n",
    "    vocab_size = 58954          # 词汇量，与word2id中的词汇量一致\n",
    "    n_class = 2                 # 分类数：分别为pos和neg\n",
    "    embedding_dim = 50          # 词向量维度\n",
    "    drop_keep_prob = 0.5        # dropout层，参数keep的比例\n",
    "    kernel_num = 64            # 卷积层filter的数量\n",
    "    kernel_size = [3,4,5]       # 卷积核的尺寸\n",
    "    pretrained_embed = word2vec # 预训练的词嵌入模型"
   ]
  },
  {
   "cell_type": "markdown",
   "metadata": {},
   "source": [
    "(2)构建Text-CNN模型："
   ]
  },
  {
   "cell_type": "code",
   "execution_count": 8,
   "metadata": {},
   "outputs": [],
   "source": [
    "class TextCNN(nn.Module):\n",
    "    def __init__(self, config):\n",
    "        super(TextCNN, self).__init__()\n",
    "        update_w2v = config.update_w2v\n",
    "        vocab_size = config.vocab_size\n",
    "        n_class = config.n_class\n",
    "        embedding_dim = config.embedding_dim\n",
    "        kernel_num = config.kernel_num\n",
    "        kernel_size = config.kernel_size\n",
    "        drop_keep_prob = config.drop_keep_prob\n",
    "        pretrained_embed = config.pretrained_embed\n",
    "        \n",
    "        # 使用预训练的词向量\n",
    "        self.embedding = nn.Embedding(vocab_size, embedding_dim)\n",
    "        self.embedding.weight.data.copy_(torch.from_numpy(pretrained_embed))\n",
    "        self.embedding.weight.requires_grad = update_w2v\n",
    "        # 卷积层\n",
    "        self.conv1 = nn.Conv2d(1, kernel_num, (kernel_size[0], embedding_dim))\n",
    "        self.conv2 = nn.Conv2d(1, kernel_num, (kernel_size[1], embedding_dim))\n",
    "        self.conv3 = nn.Conv2d(1, kernel_num, (kernel_size[2], embedding_dim))\n",
    "        # Dropout\n",
    "        self.dropout = nn.Dropout(drop_keep_prob)\n",
    "        # 全连接层\n",
    "        self.fc = nn.Linear(len(kernel_size) * kernel_num, n_class)\n",
    "\n",
    "    @staticmethod\n",
    "    def conv_and_pool(x, conv):\n",
    "        # x: (batch, 1, sentence_length,  )\n",
    "        x = conv(x)\n",
    "        # x: (batch, kernel_num, H_out, 1)\n",
    "        x = F.relu(x.squeeze(3))\n",
    "        # x: (batch, kernel_num, H_out)\n",
    "        x = F.max_pool1d(x, x.size(2)).squeeze(2)\n",
    "        #  (batch, kernel_num)\n",
    "        return x\n",
    "        \n",
    "    def forward(self, x):\n",
    "        x = x.to(torch.int64)\n",
    "        x = self.embedding(x)\n",
    "        x = x.unsqueeze(1)\n",
    "        x1 = self.conv_and_pool(x, self.conv1)  # (batch, kernel_num)\n",
    "        x2 = self.conv_and_pool(x, self.conv2)  # (batch, kernel_num)\n",
    "        x3 = self.conv_and_pool(x, self.conv3)  # (batch, kernel_num)\n",
    "        x = torch.cat((x1, x2, x3), 1)  # (batch, 3 * kernel_num)\n",
    "        x = self.dropout(x)\n",
    "        x = self.fc(x)\n",
    "        x = F.log_softmax(x, dim=1)\n",
    "        return x"
   ]
  },
  {
   "cell_type": "markdown",
   "metadata": {},
   "source": [
    "# 训练模型"
   ]
  },
  {
   "cell_type": "markdown",
   "metadata": {},
   "source": [
    "(1)设置超参数:"
   ]
  },
  {
   "cell_type": "code",
   "execution_count": 9,
   "metadata": {},
   "outputs": [],
   "source": [
    "config = CONFIG()          # 配置模型参数\n",
    "learning_rate = 0.001      # 学习率     \n",
    "BATCH_SIZE = 50            # 训练批量\n",
    "EPOCHS = 10                 # 训练轮数\n",
    "model_path = None          # 预训练模型路径\n",
    "DEVICE = torch.device('cuda:0' if torch.cuda.is_available() else 'cpu')"
   ]
  },
  {
   "cell_type": "markdown",
   "metadata": {},
   "source": [
    "(2)加载训练数据："
   ]
  },
  {
   "cell_type": "code",
   "execution_count": 10,
   "metadata": {},
   "outputs": [],
   "source": [
    "# 加载训练用的数据\n",
    "train_dataset = TensorDataset(torch.from_numpy(train_contents).type(torch.float), \n",
    "                              torch.from_numpy(train_labels).type(torch.long))\n",
    "train_dataloader = DataLoader(dataset = train_dataset, batch_size = BATCH_SIZE, \n",
    "                              shuffle = True, num_workers = 2)\n",
    "\n",
    "val_dataset = TensorDataset(torch.from_numpy(val_contents).type(torch.float), \n",
    "                              torch.from_numpy(val_labels).type(torch.long))\n",
    "val_dataloader = DataLoader(dataset = train_dataset, batch_size = BATCH_SIZE, \n",
    "                              shuffle = True, num_workers = 2)"
   ]
  },
  {
   "cell_type": "markdown",
   "metadata": {},
   "source": [
    "(3)训练："
   ]
  },
  {
   "cell_type": "code",
   "execution_count": 11,
   "metadata": {},
   "outputs": [],
   "source": [
    "# 配置模型，是否继续上一次的训练\n",
    "model = TextCNN(config)\n",
    "if model_path:\n",
    "    model.load_state_dict(torch.load(model_path))\n",
    "model.to(DEVICE)\n",
    "    \n",
    "# 设置优化器\n",
    "optimizer = torch.optim.Adam(model.parameters(), lr = learning_rate)\n",
    "\n",
    "# 设置损失函数\n",
    "criterion = nn.CrossEntropyLoss()\n",
    "scheduler = StepLR(optimizer, step_size=5)"
   ]
  },
  {
   "cell_type": "code",
   "execution_count": 12,
   "metadata": {},
   "outputs": [],
   "source": [
    "def train(dataloader,epoch):\n",
    "    # 定义训练过程\n",
    "    train_loss,train_acc = 0.0,0.0\n",
    "    count, correct = 0,0\n",
    "    for batch_idx, (x, y) in enumerate(dataloader):\n",
    "        x, y = x.to(DEVICE), y.to(DEVICE)\n",
    "        optimizer.zero_grad()\n",
    "        output = model(x)\n",
    "        loss = criterion(output, y)\n",
    "        loss.backward()\n",
    "        optimizer.step()\n",
    "        train_loss += loss.item()\n",
    "        correct += (output.argmax(1) == batch_y).float().sum().item()\n",
    "        count += len(x)\n",
    "            \n",
    "        if (batch_idx+1) % 100 == 0:\n",
    "            print('train epoch: {} [{}/{} ({:.0f}%)]\\tloss: {:.6f}'.format(\n",
    "                epoch, batch_idx * len(x), len(dataloader.dataset),\n",
    "                100. * batch_idx / len(dataloader), loss.item()))\n",
    "                \n",
    "    train_loss *= BATCH_SIZE\n",
    "    train_loss /= len(dataloader.dataset)\n",
    "    train_acc = correct/count\n",
    "    print('\\ntrain epoch: {}\\taverage loss: {:.6f}\\taccuracy:{:.4f}%\\n'.format(epoch,train_loss,100.*train_acc))\n",
    "    scheduler.step()\n",
    "    \n",
    "    return train_loss,train_acc"
   ]
  },
  {
   "cell_type": "code",
   "execution_count": 13,
   "metadata": {},
   "outputs": [],
   "source": [
    "def validation(dataloader,epoch):\n",
    "    # 验证过程\n",
    "    val_loss,val_acc = 0.0,0.0\n",
    "    count, correct = 0,0\n",
    "    for _, (x, y) in enumerate(dataloader):\n",
    "        x, y = x.to(DEVICE), y.to(DEVICE)\n",
    "        output = model(x)\n",
    "        loss = criterion(output, y)\n",
    "        val_loss += loss.item()\n",
    "        correct += (output.argmax(1) == y).float().sum().item()\n",
    "        count += len(x)\n",
    "    \n",
    "    val_loss *= BATCH_SIZE\n",
    "    val_loss /= len(dataloader.dataset)\n",
    "    val_acc = correct/count\n",
    "    # 打印准确率\n",
    "    print('validation:train epoch: {}\\taverage loss: {:.6f}\\t accuracy:{:.2f}%\\n'.format(epoch,val_loss,100*val_acc))\n",
    "    \n",
    "    return val_loss,val_acc"
   ]
  },
  {
   "cell_type": "code",
   "execution_count": 14,
   "metadata": {
    "scrolled": true
   },
   "outputs": [
    {
     "name": "stdout",
     "output_type": "stream",
     "text": [
      "train epoch: 1 [4950/19998 (25%)]\tloss: 0.571771\n",
      "train epoch: 1 [9950/19998 (50%)]\tloss: 0.587048\n",
      "train epoch: 1 [14950/19998 (75%)]\tloss: 0.367255\n",
      "train epoch: 1 [19152/19998 (100%)]\tloss: 0.536445\n",
      "\n",
      "train epoch: 1\taverage loss: 0.536496\taccuracy:72.1222%\n",
      "\n",
      "validation:train epoch: 1\taverage loss: 0.413163\t accuracy:81.43%\n",
      "\n",
      "train epoch: 2 [4950/19998 (25%)]\tloss: 0.291574\n",
      "train epoch: 2 [9950/19998 (50%)]\tloss: 0.299588\n",
      "train epoch: 2 [14950/19998 (75%)]\tloss: 0.246201\n",
      "train epoch: 2 [19152/19998 (100%)]\tloss: 0.322882\n",
      "\n",
      "train epoch: 2\taverage loss: 0.367031\taccuracy:83.8284%\n",
      "\n",
      "validation:train epoch: 2\taverage loss: 0.269979\t accuracy:89.45%\n",
      "\n",
      "train epoch: 3 [4950/19998 (25%)]\tloss: 0.149702\n",
      "train epoch: 3 [9950/19998 (50%)]\tloss: 0.268242\n",
      "train epoch: 3 [14950/19998 (75%)]\tloss: 0.183366\n",
      "train epoch: 3 [19152/19998 (100%)]\tloss: 0.171744\n",
      "\n",
      "train epoch: 3\taverage loss: 0.260188\taccuracy:89.6090%\n",
      "\n",
      "validation:train epoch: 3\taverage loss: 0.171648\t accuracy:94.22%\n",
      "\n",
      "train epoch: 4 [4950/19998 (25%)]\tloss: 0.136432\n",
      "train epoch: 4 [9950/19998 (50%)]\tloss: 0.199685\n",
      "train epoch: 4 [14950/19998 (75%)]\tloss: 0.417656\n",
      "train epoch: 4 [19152/19998 (100%)]\tloss: 0.377281\n",
      "\n",
      "train epoch: 4\taverage loss: 0.170598\taccuracy:93.7344%\n",
      "\n",
      "validation:train epoch: 4\taverage loss: 0.101813\t accuracy:96.90%\n",
      "\n",
      "train epoch: 5 [4950/19998 (25%)]\tloss: 0.074954\n",
      "train epoch: 5 [9950/19998 (50%)]\tloss: 0.096808\n",
      "train epoch: 5 [14950/19998 (75%)]\tloss: 0.044916\n",
      "train epoch: 5 [19152/19998 (100%)]\tloss: 0.074631\n",
      "\n",
      "train epoch: 5\taverage loss: 0.103301\taccuracy:96.6447%\n",
      "\n",
      "validation:train epoch: 5\taverage loss: 0.056820\t accuracy:98.51%\n",
      "\n",
      "train epoch: 6 [4950/19998 (25%)]\tloss: 0.031964\n",
      "train epoch: 6 [9950/19998 (50%)]\tloss: 0.048941\n",
      "train epoch: 6 [14950/19998 (75%)]\tloss: 0.153863\n",
      "train epoch: 6 [19152/19998 (100%)]\tloss: 0.194856\n",
      "\n",
      "train epoch: 6\taverage loss: 0.053475\taccuracy:98.6749%\n",
      "\n",
      "validation:train epoch: 6\taverage loss: 0.048022\t accuracy:98.80%\n",
      "\n",
      "train epoch: 7 [4950/19998 (25%)]\tloss: 0.017770\n",
      "train epoch: 7 [9950/19998 (50%)]\tloss: 0.106929\n",
      "train epoch: 7 [14950/19998 (75%)]\tloss: 0.169108\n",
      "train epoch: 7 [19152/19998 (100%)]\tloss: 0.041111\n",
      "\n",
      "train epoch: 7\taverage loss: 0.047742\taccuracy:98.7549%\n",
      "\n",
      "validation:train epoch: 7\taverage loss: 0.043496\t accuracy:98.91%\n",
      "\n",
      "train epoch: 8 [4950/19998 (25%)]\tloss: 0.168747\n",
      "train epoch: 8 [9950/19998 (50%)]\tloss: 0.028047\n",
      "train epoch: 8 [14950/19998 (75%)]\tloss: 0.057535\n",
      "train epoch: 8 [19152/19998 (100%)]\tloss: 0.049601\n",
      "\n",
      "train epoch: 8\taverage loss: 0.042887\taccuracy:98.9549%\n",
      "\n",
      "validation:train epoch: 8\taverage loss: 0.038632\t accuracy:99.01%\n",
      "\n",
      "train epoch: 9 [4950/19998 (25%)]\tloss: 0.026156\n",
      "train epoch: 9 [9950/19998 (50%)]\tloss: 0.026113\n",
      "train epoch: 9 [14950/19998 (75%)]\tloss: 0.025799\n",
      "train epoch: 9 [19152/19998 (100%)]\tloss: 0.042578\n",
      "\n",
      "train epoch: 9\taverage loss: 0.037781\taccuracy:99.0299%\n",
      "\n",
      "validation:train epoch: 9\taverage loss: 0.034972\t accuracy:99.21%\n",
      "\n",
      "train epoch: 10 [4950/19998 (25%)]\tloss: 0.029707\n",
      "train epoch: 10 [9950/19998 (50%)]\tloss: 0.020626\n",
      "train epoch: 10 [14950/19998 (75%)]\tloss: 0.012480\n",
      "train epoch: 10 [19152/19998 (100%)]\tloss: 0.026129\n",
      "\n",
      "train epoch: 10\taverage loss: 0.034873\taccuracy:99.1549%\n",
      "\n",
      "validation:train epoch: 10\taverage loss: 0.031700\t accuracy:99.28%\n",
      "\n"
     ]
    }
   ],
   "source": [
    "train_losses = []\n",
    "train_acces = []\n",
    "val_losses = []\n",
    "val_acces = []\n",
    "\n",
    "for epoch in range(1,EPOCHS+1):\n",
    "    tr_loss,tr_acc = train(train_dataloader,epoch)\n",
    "    val_loss,val_acc = validation(val_dataloader,epoch)\n",
    "    train_losses.append(tr_loss)\n",
    "    train_acces.append(tr_acc)\n",
    "    val_losses.append(val_loss)\n",
    "    val_acces.append(val_acc)\n",
    "    \n",
    "model_pth = 'model_' + str(time.time()) + '.pth'\n",
    "torch.save(model.state_dict(), model_pth)"
   ]
  },
  {
   "cell_type": "markdown",
   "metadata": {},
   "source": [
    "(4)可视化训练过程中的loss和accuracy"
   ]
  },
  {
   "cell_type": "code",
   "execution_count": 15,
   "metadata": {},
   "outputs": [],
   "source": [
    "def draw_plot(data,label,x,y):\n",
    "    plt.plot(data,label=label)\n",
    "    plt.xlabel(x, fontsize=14)\n",
    "    plt.ylabel(y, fontsize=14)\n",
    "    plt.legend()"
   ]
  },
  {
   "cell_type": "code",
   "execution_count": 16,
   "metadata": {},
   "outputs": [
    {
     "data": {
      "image/png": "[encoded data removed]",
      "text/plain": [
       "<Figure size 432x288 with 1 Axes>"
      ]
     },
     "metadata": {
      "needs_background": "light"
     },
     "output_type": "display_data"
    }
   ],
   "source": [
    "draw_plot(train_losses,\"train_loss\",\"iteration\",\"loss\")"
   ]
  },
  {
   "cell_type": "code",
   "execution_count": 17,
   "metadata": {},
   "outputs": [
    {
     "data": {
      "image/png": "[encoded data removed]",
      "text/plain": [
       "<Figure size 432x288 with 1 Axes>"
      ]
     },
     "metadata": {
      "needs_background": "light"
     },
     "output_type": "display_data"
    }
   ],
   "source": [
    "draw_plot(train_acces,\"train_accuracy\",\"iteration\",\"acc\")"
   ]
  },
  {
   "cell_type": "code",
   "execution_count": 18,
   "metadata": {},
   "outputs": [
    {
     "data": {
      "image/png": "[encoded data removed]",
      "text/plain": [
       "<Figure size 432x288 with 1 Axes>"
      ]
     },
     "metadata": {
      "needs_background": "light"
     },
     "output_type": "display_data"
    }
   ],
   "source": [
    "draw_plot(val_losses,\"val_loss\",\"iteration\",\"loss\")"
   ]
  },
  {
   "cell_type": "code",
   "execution_count": 19,
   "metadata": {},
   "outputs": [
    {
     "data": {
      "image/png": "[encoded data removed]",
      "text/plain": [
       "<Figure size 432x288 with 1 Axes>"
      ]
     },
     "metadata": {
      "needs_background": "light"
     },
     "output_type": "display_data"
    }
   ],
   "source": [
    "draw_plot(val_acces,\"val_accuracy\",\"iteration\",\"acc\")"
   ]
  },
  {
   "cell_type": "markdown",
   "metadata": {},
   "source": [
    "# 测试模型\n",
    "\n",
    "测试模型在测试集的准确率："
   ]
  },
  {
   "cell_type": "code",
   "execution_count": 20,
   "metadata": {},
   "outputs": [
    {
     "data": {
      "text/plain": [
       "<All keys matched successfully>"
      ]
     },
     "execution_count": 20,
     "metadata": {},
     "output_type": "execute_result"
    }
   ],
   "source": [
    "# 设置超参数\n",
    "model_path = model_pth    # 模型路径\n",
    "# 加载测试集\n",
    "test_dataset = TensorDataset(torch.from_numpy(test_contents).type(torch.float), \n",
    "                            torch.from_numpy(test_labels).type(torch.long))\n",
    "test_dataloader = DataLoader(dataset = test_dataset, batch_size = BATCH_SIZE, \n",
    "                            shuffle = False, num_workers = 2)\n",
    "# 读取模型\n",
    "model = TextCNN(config)\n",
    "model.load_state_dict(torch.load(model_path))"
   ]
  },
  {
   "cell_type": "code",
   "execution_count": 21,
   "metadata": {
    "scrolled": false
   },
   "outputs": [],
   "source": [
    "def test(dataloader):\n",
    "    model.eval()\n",
    "    model.to(DEVICE)\n",
    "    \n",
    "    # 测试过程\n",
    "    count, correct = 0, 0\n",
    "    for _, (x, y) in enumerate(dataloader):\n",
    "        x, y = x.to(DEVICE), y.to(DEVICE)\n",
    "        output = model(x)\n",
    "        correct += (output.argmax(1) == y).float().sum().item()\n",
    "        count += len(x)\n",
    "    \n",
    "    # 打印准确率\n",
    "    print('test accuracy:{:.2f}%.'.format(100*correct/count))"
   ]
  },
  {
   "cell_type": "code",
   "execution_count": 22,
   "metadata": {},
   "outputs": [
    {
     "name": "stdout",
     "output_type": "stream",
     "text": [
      "test accuracy:82.66%.\n"
     ]
    }
   ],
   "source": [
    "test(test_dataloader)"
   ]
  },
  {
   "cell_type": "code",
   "execution_count": 23,
   "metadata": {},
   "outputs": [
    {
     "name": "stdout",
     "output_type": "stream",
     "text": [
      "TextCNN(\n",
      "  (embedding): Embedding(58954, 50)\n",
      "  (conv1): Conv2d(1, 64, kernel_size=(3, 50), stride=(1, 1))\n",
      "  (conv2): Conv2d(1, 64, kernel_size=(4, 50), stride=(1, 1))\n",
      "  (conv3): Conv2d(1, 64, kernel_size=(5, 50), stride=(1, 1))\n",
      "  (dropout): Dropout(p=0.5, inplace=False)\n",
      "  (fc): Linear(in_features=192, out_features=2, bias=True)\n",
      ")\n"
     ]
    }
   ],
   "source": [
    "print(model)"
   ]
  },
  {
   "cell_type": "code",
   "execution_count": null,
   "metadata": {},
   "outputs": [],
   "source": []
  }
 ],
 "metadata": {
  "kernelspec": {
   "display_name": "Python 3",
   "language": "python",
   "name": "python3"
  },
  "language_info": {
   "codemirror_mode": {
    "name": "ipython",
    "version": 3
   },
   "file_extension": ".py",
   "mimetype": "text/x-python",
   "name": "python",
   "nbconvert_exporter": "python",
   "pygments_lexer": "ipython3",
   "version": "3.7.6"
  }
 },
 "nbformat": 4,
 "nbformat_minor": 2
}
