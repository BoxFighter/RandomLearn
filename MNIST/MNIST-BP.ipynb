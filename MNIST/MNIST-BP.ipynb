{
 "cells": [
  {
   "cell_type": "code",
   "execution_count": 1,
   "metadata": {},
   "outputs": [],
   "source": [
    "import torch\n",
    "from torch.autograd import Variable\n",
    "from torch.nn import Parameter\n",
    "from torch.utils.data import DataLoader\n",
    "\n",
    "from torchvision.datasets import mnist\n",
    "\n",
    "from torch import nn\n",
    "\n",
    "import numpy as np\n",
    "import pandas as pd\n",
    "import matplotlib.pyplot as plt\n",
    "\n",
    "import os,time"
   ]
  },
  {
   "cell_type": "code",
   "execution_count": 2,
   "metadata": {},
   "outputs": [],
   "source": [
    "train_set=mnist.MNIST('./data/',train=True,download=True)\n",
    "test_set=mnist.MNIST('./data/',train=False,download=True)"
   ]
  },
  {
   "cell_type": "code",
   "execution_count": 3,
   "metadata": {},
   "outputs": [],
   "source": [
    "def data_df(x):\n",
    "    x=np.array(x)/255\n",
    "    x=(x-0.5)/0.5\n",
    "    x=x.reshape((-1,))\n",
    "    x=torch.Tensor(x).float()\n",
    "    return x"
   ]
  },
  {
   "cell_type": "code",
   "execution_count": 4,
   "metadata": {},
   "outputs": [],
   "source": [
    "train_set=mnist.MNIST('./data/',train=True,transform=data_df)\n",
    "test_set=mnist.MNIST('./data/',train=False,transform=data_df)"
   ]
  },
  {
   "cell_type": "code",
   "execution_count": 5,
   "metadata": {},
   "outputs": [],
   "source": [
    "train_data=DataLoader(train_set,batch_size=64,shuffle=True)\n",
    "test_data=DataLoader(test_set,batch_size=128,shuffle=False)"
   ]
  },
  {
   "cell_type": "code",
   "execution_count": 6,
   "metadata": {},
   "outputs": [],
   "source": [
    "\n",
    "net=nn.Sequential(\n",
    "    nn.Linear(784,400),\n",
    "    nn.ReLU(),\n",
    "    nn.Linear(400,200),\n",
    "    nn.ReLU(),\n",
    "    nn.Linear(200,100),\n",
    "    nn.ReLU(),\n",
    "    nn.Linear(100,10)\n",
    ")"
   ]
  },
  {
   "cell_type": "code",
   "execution_count": 7,
   "metadata": {},
   "outputs": [],
   "source": [
    "criterion=nn.CrossEntropyLoss()\n",
    "optimizer=torch.optim.SGD(net.parameters(),lr=.1)"
   ]
  },
  {
   "cell_type": "code",
   "execution_count": 8,
   "metadata": {
    "scrolled": true
   },
   "outputs": [
    {
     "name": "stdout",
     "output_type": "stream",
     "text": [
      "epoch:1 train_loss:0.5078168632164757 test_loss:0.2287351920776352 train_acc:0.836670458316803 test_acc:0.9268196225166321\n",
      "epoch:2 train_loss:0.1662996712643137 test_loss:0.12656787672091888 train_acc:0.9487939476966858 test_acc:0.9608386158943176\n",
      "epoch:3 train_loss:0.11727747759287323 test_loss:0.15746043316866684 train_acc:0.9635527729988098 test_acc:0.949070394039154\n",
      "epoch:4 train_loss:0.09249601354087784 test_loss:0.10087937856523344 train_acc:0.9709154963493347 test_acc:0.9679588675498962\n",
      "epoch:5 train_loss:0.09271469342334669 test_loss:0.10606335951722687 train_acc:0.9727811813354492 test_acc:0.9663766026496887\n",
      "epoch:6 train_loss:0.07201637245460486 test_loss:0.07804136016904199 train_acc:0.9770122766494751 test_acc:0.975969135761261\n",
      "epoch:7 train_loss:0.05772895310736839 test_loss:0.07424604913213916 train_acc:0.9818763136863708 test_acc:0.977749228477478\n",
      "epoch:8 train_loss:0.04711692841324671 test_loss:0.07555791345105177 train_acc:0.9847581386566162 test_acc:0.9772547483444214\n",
      "epoch:9 train_loss:0.041834783122521334 test_loss:0.0726023203376688 train_acc:0.9863073229789734 test_acc:0.9786392450332642\n",
      "epoch:10 train_loss:0.034806524741810625 test_loss:0.0700073879557703 train_acc:0.9885727763175964 test_acc:0.9785403609275818\n"
     ]
    }
   ],
   "source": [
    "losses=[]\n",
    "acces=[]\n",
    "eval_losses=[]\n",
    "eval_acces=[]\n",
    "\n",
    "for i in range(10):\n",
    "    train_loss=0\n",
    "    train_acc=0\n",
    "    net.train()\n",
    "    \n",
    "    for im,label in train_data:\n",
    "        out=net(im)\n",
    "        loss=criterion(out,label)\n",
    "        \n",
    "        optimizer.zero_grad()\n",
    "        loss.backward()\n",
    "        optimizer.step()\n",
    "        \n",
    "        train_loss+=loss.data.numpy()\n",
    "        _,pred=out.max(1)\n",
    "        acc=(pred==label).float().sum()/im.shape[0]\n",
    "        train_acc+=acc\n",
    "    losses.append(train_loss)\n",
    "    acces.append(train_acc/len(train_data))\n",
    "    \n",
    "    eval_loss=0\n",
    "    eval_acc=0\n",
    "    net.eval()\n",
    "    \n",
    "    for im,label in test_data:\n",
    "        out=net(im)\n",
    "        loss=criterion(out,label)\n",
    "        \n",
    "        eval_loss+=loss.data.numpy()\n",
    "        \n",
    "        _,pred=out.max(1)\n",
    "        acc=(pred==label).float().sum()/im.shape[0]\n",
    "        eval_acc+=acc\n",
    "        \n",
    "    eval_losses.append(eval_loss/len(test_data))\n",
    "    eval_acces.append(eval_acc/len(test_data))\n",
    "    \n",
    "    print('epoch:{} train_loss:{} test_loss:{} train_acc:{} test_acc:{}'.format(i+1,train_loss/len(train_data),eval_loss/len(test_data),train_acc/len(train_data),eval_acc/len(test_data)))"
   ]
  },
  {
   "cell_type": "code",
   "execution_count": 9,
   "metadata": {},
   "outputs": [
    {
     "data": {
      "text/plain": [
       "<matplotlib.legend.Legend at 0x1257cebd0>"
      ]
     },
     "execution_count": 9,
     "metadata": {},
     "output_type": "execute_result"
    },
    {
     "data": {
      "image/png": "[encoded data removed]",
      "text/plain": [
       "<Figure size 432x288 with 1 Axes>"
      ]
     },
     "metadata": {
      "needs_background": "light"
     },
     "output_type": "display_data"
    }
   ],
   "source": [
    "plt.plot(losses,label='train')\n",
    "plt.plot(eval_losses,label='test')\n",
    "plt.legend()"
   ]
  },
  {
   "cell_type": "code",
   "execution_count": 10,
   "metadata": {},
   "outputs": [
    {
     "data": {
      "text/plain": [
       "<matplotlib.legend.Legend at 0x12c7f8e90>"
      ]
     },
     "execution_count": 10,
     "metadata": {},
     "output_type": "execute_result"
    },
    {
     "data": {
      "image/png": "[encoded data removed]",
      "text/plain": [
       "<Figure size 432x288 with 1 Axes>"
      ]
     },
     "metadata": {
      "needs_background": "light"
     },
     "output_type": "display_data"
    }
   ],
   "source": [
    "plt.plot(acces,label='train')\n",
    "plt.plot(eval_acces,label='test')\n",
    "plt.legend()"
   ]
  },
  {
   "cell_type": "code",
   "execution_count": 12,
   "metadata": {},
   "outputs": [
    {
     "name": "stdout",
     "output_type": "stream",
     "text": [
      "[0.2287351920776352, 0.12656787672091888, 0.15746043316866684, 0.10087937856523344, 0.10606335951722687, 0.07804136016904199, 0.07424604913213916, 0.07555791345105177, 0.0726023203376688, 0.0700073879557703]\n",
      "[tensor(0.9268), tensor(0.9608), tensor(0.9491), tensor(0.9680), tensor(0.9664), tensor(0.9760), tensor(0.9777), tensor(0.9773), tensor(0.9786), tensor(0.9785)]\n"
     ]
    }
   ],
   "source": [
    "print(eval_losses)\n",
    "print(eval_acces)"
   ]
  },
  {
   "cell_type": "code",
   "execution_count": null,
   "metadata": {},
   "outputs": [],
   "source": []
  }
 ],
 "metadata": {
  "kernelspec": {
   "display_name": "Python 3",
   "language": "python",
   "name": "python3"
  },
  "language_info": {
   "codemirror_mode": {
    "name": "ipython",
    "version": 3
   },
   "file_extension": ".py",
   "mimetype": "text/x-python",
   "name": "python",
   "nbconvert_exporter": "python",
   "pygments_lexer": "ipython3",
   "version": "3.7.6"
  }
 },
 "nbformat": 4,
 "nbformat_minor": 4
}
