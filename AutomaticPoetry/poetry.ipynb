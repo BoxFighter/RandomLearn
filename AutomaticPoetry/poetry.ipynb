{
 "cells": [
  {
   "cell_type": "code",
   "execution_count": 78,
   "metadata": {},
   "outputs": [],
   "source": [
    "import numpy as np\n",
    "import torch\n",
    "import torch.nn as nn\n",
    "import torch.optim as optim\n",
    "import time\n",
    "import matplotlib.pyplot as plt\n",
    "from torch.optim.lr_scheduler import *\n",
    "from torch.utils.data import DataLoader\n",
    "from torch.autograd import Variable\n",
    "\n",
    "BATCH_SIZE = 16\n",
    "EPOCHS = 4 \n",
    "DEVICE = torch.device(\"cuda\" if torch.cuda.is_available() else \"cpu\") "
   ]
  },
  {
   "cell_type": "code",
   "execution_count": 79,
   "metadata": {},
   "outputs": [],
   "source": [
    "# 读入预处理的数据\n",
    "datas = np.load(\"./tang.npz\")\n",
    "data = datas['data']\n",
    "ix2word = datas['ix2word'].item()\n",
    "word2ix = datas['word2ix'].item()\n",
    "    \n",
    "# 转为torch.Tensor\n",
    "data = torch.from_numpy(data)\n",
    "train_loader = DataLoader(data, batch_size = BATCH_SIZE, shuffle = True, num_workers = 2)"
   ]
  },
  {
   "cell_type": "code",
   "execution_count": 85,
   "metadata": {},
   "outputs": [],
   "source": [
    "class PoetryModel(nn.Module):\n",
    "    def __init__(self, vocab_size, embedding_dim, hidden_dim):\n",
    "        super(PoetryModel, self).__init__()\n",
    "        self.hidden_dim = hidden_dim\n",
    "        self.embedding = nn.Embedding(vocab_size, embedding_dim)\n",
    "        self.lstm = nn.LSTM(embedding_dim, self.hidden_dim, num_layers=3)\n",
    "        self.classifier=nn.Sequential(\n",
    "            nn.Linear(self.hidden_dim, 512), \n",
    "            nn.ReLU(inplace=True), \n",
    "            nn.Linear(512, 2048), \n",
    "            nn.ReLU(inplace=True),\n",
    "            nn.Linear(2048, vocab_size)\n",
    "        )\n",
    "\n",
    "    def forward(self, input, hidden = None):\n",
    "        seq_len, batch_size = input.size()\n",
    "        \n",
    "        if hidden is None:\n",
    "            h_0 = input.data.new(3, batch_size, self.hidden_dim).fill_(0).float()\n",
    "            c_0 = input.data.new(3, batch_size, self.hidden_dim).fill_(0).float()\n",
    "        else:\n",
    "            h_0, c_0 = hidden\n",
    "\n",
    "        embeds = self.embedding(input)\n",
    "        output, hidden = self.lstm(embeds, (h_0, c_0))\n",
    "        output = self.classifier(output.view(seq_len * batch_size, -1))\n",
    "        \n",
    "        return output, hidden"
   ]
  },
  {
   "cell_type": "code",
   "execution_count": 86,
   "metadata": {},
   "outputs": [],
   "source": [
    "# 配置模型，是否继续上一次的训练\n",
    "model = PoetryModel(len(word2ix),embedding_dim = 128,hidden_dim = 256)\n",
    "\n",
    "model_path = ''         # 预训练模型路径\n",
    "if model_path:\n",
    "    model.load_state_dict(torch.load(model_path))\n",
    "model.to(DEVICE)\n",
    "    \n",
    "optimizer = torch.optim.Adam(model.parameters(), lr = 5e-3)\n",
    "# optimizer = torch.optim.SGD(model.parameters(), lr=5e-3, momentum=0.9, weight_decay=5e-4)\n",
    "criterion = nn.CrossEntropyLoss()\n",
    "scheduler = StepLR(optimizer, step_size=10)"
   ]
  },
  {
   "cell_type": "code",
   "execution_count": 87,
   "metadata": {},
   "outputs": [],
   "source": [
    "def train(model, dataloader, ix2word, word2ix, device, optimizer, scheduler, epoch):\n",
    "    model.train()\n",
    "    train_loss = 0.0\n",
    "    \n",
    "    for batch_idx, data in enumerate(dataloader):\n",
    "        data = data.long().transpose(1, 0).contiguous()\n",
    "        data = data.to(device)\n",
    "        optimizer.zero_grad()\n",
    "        input, target = data[:-1, :], data[1:, :]\n",
    "        output, _ = model(input)\n",
    "        loss = criterion(output, target.view(-1))\n",
    "        loss.backward()  \n",
    "        optimizer.step()\n",
    "        train_loss += loss.item()\n",
    "            \n",
    "        if (batch_idx+1) % 200 == 0:\n",
    "            print('train epoch: {} [{}/{} ({:.0f}%)]\\tloss: {:.6f}'.format(\n",
    "                epoch, batch_idx * len(data[1]), len(dataloader.dataset),\n",
    "                100. * batch_idx / len(dataloader), loss.item()))\n",
    "            \n",
    "    train_loss *= BATCH_SIZE\n",
    "    train_loss /= len(train_loader.dataset)\n",
    "    print('\\ntrain epoch: {}\\t average loss: {:.6f}\\n'.format(epoch,train_loss))\n",
    "    scheduler.step()\n",
    "    \n",
    "    return train_loss"
   ]
  },
  {
   "cell_type": "code",
   "execution_count": 88,
   "metadata": {
    "scrolled": true
   },
   "outputs": [
    {
     "name": "stdout",
     "output_type": "stream",
     "text": [
      "train epoch: 1 [3184/57580 (6%)]\tloss: 2.632571\n",
      "train epoch: 1 [6384/57580 (11%)]\tloss: 2.861430\n",
      "train epoch: 1 [9584/57580 (17%)]\tloss: 2.318686\n",
      "train epoch: 1 [12784/57580 (22%)]\tloss: 2.628373\n",
      "train epoch: 1 [15984/57580 (28%)]\tloss: 2.207271\n",
      "train epoch: 1 [19184/57580 (33%)]\tloss: 2.214486\n",
      "train epoch: 1 [22384/57580 (39%)]\tloss: 2.226165\n",
      "train epoch: 1 [25584/57580 (44%)]\tloss: 2.536668\n",
      "train epoch: 1 [28784/57580 (50%)]\tloss: 2.082079\n",
      "train epoch: 1 [31984/57580 (56%)]\tloss: 2.794148\n",
      "train epoch: 1 [35184/57580 (61%)]\tloss: 1.811940\n",
      "train epoch: 1 [38384/57580 (67%)]\tloss: 2.114514\n",
      "train epoch: 1 [41584/57580 (72%)]\tloss: 2.292327\n",
      "train epoch: 1 [44784/57580 (78%)]\tloss: 1.911224\n",
      "train epoch: 1 [47984/57580 (83%)]\tloss: 2.177257\n",
      "train epoch: 1 [51184/57580 (89%)]\tloss: 2.128556\n",
      "train epoch: 1 [54384/57580 (94%)]\tloss: 2.567488\n",
      "\n",
      "train epoch: 1\t average loss: 2.388427\n",
      "\n",
      "train epoch: 2 [3184/57580 (6%)]\tloss: 1.785987\n",
      "train epoch: 2 [6384/57580 (11%)]\tloss: 1.893884\n",
      "train epoch: 2 [9584/57580 (17%)]\tloss: 1.910752\n",
      "train epoch: 2 [12784/57580 (22%)]\tloss: 2.050624\n",
      "train epoch: 2 [15984/57580 (28%)]\tloss: 2.145060\n",
      "train epoch: 2 [19184/57580 (33%)]\tloss: 2.012471\n",
      "train epoch: 2 [22384/57580 (39%)]\tloss: 2.240333\n",
      "train epoch: 2 [25584/57580 (44%)]\tloss: 2.351806\n",
      "train epoch: 2 [28784/57580 (50%)]\tloss: 1.783983\n",
      "train epoch: 2 [31984/57580 (56%)]\tloss: 1.763192\n",
      "train epoch: 2 [35184/57580 (61%)]\tloss: 2.031348\n",
      "train epoch: 2 [38384/57580 (67%)]\tloss: 2.124714\n",
      "train epoch: 2 [41584/57580 (72%)]\tloss: 2.293070\n",
      "train epoch: 2 [44784/57580 (78%)]\tloss: 1.711825\n",
      "train epoch: 2 [47984/57580 (83%)]\tloss: 2.462975\n",
      "train epoch: 2 [51184/57580 (89%)]\tloss: 2.017400\n",
      "train epoch: 2 [54384/57580 (94%)]\tloss: 1.955691\n",
      "\n",
      "train epoch: 2\t average loss: 2.138423\n",
      "\n",
      "train epoch: 3 [3184/57580 (6%)]\tloss: 1.695713\n",
      "train epoch: 3 [6384/57580 (11%)]\tloss: 1.787174\n",
      "train epoch: 3 [9584/57580 (17%)]\tloss: 1.824119\n",
      "train epoch: 3 [12784/57580 (22%)]\tloss: 2.820371\n",
      "train epoch: 3 [15984/57580 (28%)]\tloss: 1.675186\n",
      "train epoch: 3 [19184/57580 (33%)]\tloss: 1.765830\n",
      "train epoch: 3 [22384/57580 (39%)]\tloss: 2.021575\n",
      "train epoch: 3 [25584/57580 (44%)]\tloss: 1.770235\n",
      "train epoch: 3 [28784/57580 (50%)]\tloss: 2.031515\n",
      "train epoch: 3 [31984/57580 (56%)]\tloss: 1.808965\n",
      "train epoch: 3 [35184/57580 (61%)]\tloss: 1.865808\n",
      "train epoch: 3 [38384/57580 (67%)]\tloss: 1.980495\n",
      "train epoch: 3 [41584/57580 (72%)]\tloss: 2.378682\n",
      "train epoch: 3 [44784/57580 (78%)]\tloss: 1.719325\n",
      "train epoch: 3 [47984/57580 (83%)]\tloss: 1.882654\n",
      "train epoch: 3 [51184/57580 (89%)]\tloss: 2.359385\n",
      "train epoch: 3 [54384/57580 (94%)]\tloss: 1.609980\n",
      "\n",
      "train epoch: 3\t average loss: 2.058362\n",
      "\n",
      "train epoch: 4 [3184/57580 (6%)]\tloss: 2.287884\n",
      "train epoch: 4 [6384/57580 (11%)]\tloss: 2.068311\n",
      "train epoch: 4 [9584/57580 (17%)]\tloss: 1.917792\n",
      "train epoch: 4 [12784/57580 (22%)]\tloss: 1.963297\n",
      "train epoch: 4 [15984/57580 (28%)]\tloss: 2.044705\n",
      "train epoch: 4 [19184/57580 (33%)]\tloss: 2.144790\n",
      "train epoch: 4 [22384/57580 (39%)]\tloss: 2.008417\n",
      "train epoch: 4 [25584/57580 (44%)]\tloss: 1.987868\n",
      "train epoch: 4 [28784/57580 (50%)]\tloss: 1.695180\n",
      "train epoch: 4 [31984/57580 (56%)]\tloss: 1.705013\n",
      "train epoch: 4 [35184/57580 (61%)]\tloss: 1.700668\n",
      "train epoch: 4 [38384/57580 (67%)]\tloss: 2.033195\n",
      "train epoch: 4 [41584/57580 (72%)]\tloss: 1.890425\n",
      "train epoch: 4 [44784/57580 (78%)]\tloss: 1.728119\n",
      "train epoch: 4 [47984/57580 (83%)]\tloss: 2.478808\n",
      "train epoch: 4 [51184/57580 (89%)]\tloss: 2.436805\n",
      "train epoch: 4 [54384/57580 (94%)]\tloss: 2.237835\n",
      "\n",
      "train epoch: 4\t average loss: 2.013393\n",
      "\n"
     ]
    }
   ],
   "source": [
    "train_losses = []\n",
    "\n",
    "for epoch in range(1,EPOCHS+1):\n",
    "    tr_loss = train(model,train_loader,ix2word,word2ix,DEVICE,optimizer,scheduler,epoch)\n",
    "    train_losses.append(tr_loss)\n",
    "    \n",
    "# 保存模型\n",
    "filename = \"model\" + str(time.time()) + \".pth\"\n",
    "torch.save(model.state_dict(), filename) "
   ]
  },
  {
   "cell_type": "code",
   "execution_count": 89,
   "metadata": {},
   "outputs": [
    {
     "name": "stdout",
     "output_type": "stream",
     "text": [
      "model1587422744.654135.pth\n"
     ]
    },
    {
     "data": {
      "text/plain": [
       "PoetryModel(\n",
       "  (embedding): Embedding(8293, 128)\n",
       "  (lstm): LSTM(128, 256, num_layers=3)\n",
       "  (classifier): Sequential(\n",
       "    (0): Linear(in_features=256, out_features=2048, bias=True)\n",
       "    (1): ReLU(inplace=True)\n",
       "    (2): Linear(in_features=2048, out_features=512, bias=True)\n",
       "    (3): ReLU(inplace=True)\n",
       "    (4): Linear(in_features=512, out_features=8293, bias=True)\n",
       "  )\n",
       ")"
      ]
     },
     "execution_count": 89,
     "metadata": {},
     "output_type": "execute_result"
    }
   ],
   "source": [
    "# 读取模型\n",
    "model_path = filename     # 模型路径\n",
    "print(model_path)\n",
    "model = PoetryModel(len(word2ix),embedding_dim = 128,hidden_dim = 256)\n",
    "model.load_state_dict(torch.load(model_path))\n",
    "model.to(DEVICE)"
   ]
  },
  {
   "cell_type": "code",
   "execution_count": 90,
   "metadata": {},
   "outputs": [],
   "source": [
    "def generate(model, start_words, ix2word, word2ix, max_gen_len, prefix_words=None):\n",
    "    # 读取唐诗的第一句\n",
    "    results = list(start_words)\n",
    "    start_word_len = len(start_words)\n",
    "    \n",
    "    # 设置第一个词为<START>\n",
    "    input = torch.Tensor([word2ix['<START>']]).view(1, 1).long()\n",
    "    input = input.to(DEVICE)\n",
    "    hidden = None\n",
    "    \n",
    "    if prefix_words:\n",
    "        for word in prefix_words:\n",
    "            output, hidden = model(input, hidden)\n",
    "            input = Variable(input.data.new([word2ix[word]])).view(1, 1)\n",
    "\n",
    "    # 生成唐诗\n",
    "    for i in range(max_gen_len):\n",
    "        output, hidden = model(input, hidden)\n",
    "        # 读取第一句\n",
    "        if i < start_word_len:\n",
    "            w = results[i]\n",
    "            input = input.data.new([word2ix[w]]).view(1, 1)\n",
    "        # 生成后面的句子\n",
    "        else:\n",
    "            top_index = output.data[0].topk(1)[1][0].item()\n",
    "            w = ix2word[top_index]\n",
    "            results.append(w)\n",
    "            input = input.data.new([top_index]).view(1, 1)\n",
    "        # 结束标志\n",
    "        if w == '<EOP>':\n",
    "            del results[-1]\n",
    "            break\n",
    "            \n",
    "    return results"
   ]
  },
  {
   "cell_type": "code",
   "execution_count": 107,
   "metadata": {},
   "outputs": [
    {
     "name": "stdout",
     "output_type": "stream",
     "text": [
      "巴山夜雨涨秋池，一声千里万里流。\n",
      "江南一望一千里，江上一声千万里。\n",
      "江南一望一时归，江上江南一片云。\n",
      "江南江上望乡路，江上月明归去时。\n",
      "江南江上望江水，江上月明南浦云。\n",
      "江南江上望江水，江上月明归去程。\n",
      "江南江上望乡路，江上江头愁泪痕。\n",
      "\n"
     ]
    }
   ],
   "source": [
    "start_words = '巴山夜雨涨秋池'  # 唐诗的第一句\n",
    "max_gen_len = 128        # 生成唐诗的最长长度\n",
    "\n",
    "prefix_words = '大漠孤烟直'\n",
    "results = generate(model, start_words, ix2word, word2ix, max_gen_len, prefix_words)\n",
    "poetry = ''\n",
    "for word in results:\n",
    "    poetry += word\n",
    "    if word == '。' or word == '!':\n",
    "        poetry += '\\n'\n",
    "        \n",
    "print(poetry)"
   ]
  },
  {
   "cell_type": "code",
   "execution_count": 92,
   "metadata": {},
   "outputs": [
    {
     "name": "stdout",
     "output_type": "stream",
     "text": [
      "[2.388426580690766, 2.1384226280933207, 2.0583619789846987, 2.013393285167677]\n"
     ]
    }
   ],
   "source": [
    "print(train_losses)"
   ]
  },
  {
   "cell_type": "code",
   "execution_count": 93,
   "metadata": {},
   "outputs": [],
   "source": [
    "def gen_acrostic(model, start_words, ix2word, word2ix, prefix_words=None):\n",
    "    # 读取唐诗的“头”\n",
    "    results = []\n",
    "    start_word_len = len(start_words)\n",
    "    \n",
    "    # 设置第一个词为<START>\n",
    "    input = (torch.Tensor([word2ix['<START>']]).view(1, 1).long())\n",
    "    input = input.to(DEVICE)\n",
    "    hidden = None\n",
    "\n",
    "    index = 0            # 指示已生成了多少句\n",
    "    pre_word = '<START>' # 上一个词\n",
    "    \n",
    "    if prefix_words:\n",
    "        for word in prefix_words:\n",
    "            output, hidden = model(input, hidden)\n",
    "            input = Variable(input.data.new([word2ix[word]])).view(1, 1)\n",
    "\n",
    "    # 生成藏头诗\n",
    "    for i in range(max_gen_len_acrostic):\n",
    "        output, hidden = model(input, hidden)\n",
    "        top_index = output.data[0].topk(1)[1][0].item()\n",
    "        w = ix2word[top_index]\n",
    "\n",
    "        # 如果遇到标志一句的结尾，喂入下一个“头”\n",
    "        if (pre_word in {u'。', u'！', '<START>'}):\n",
    "            # 如果生成的诗已经包含全部“头”，则结束\n",
    "            if index == start_word_len:\n",
    "                break\n",
    "            # 把“头”作为输入喂入模型\n",
    "            else:\n",
    "                w = start_words[index]\n",
    "                index += 1\n",
    "                input = (input.data.new([word2ix[w]])).view(1, 1)\n",
    "                \n",
    "        # 否则，把上一次预测作为下一个词输入\n",
    "        else:\n",
    "            input = (input.data.new([word2ix[w]])).view(1, 1)\n",
    "        results.append(w)\n",
    "        pre_word = w\n",
    "        \n",
    "    return results"
   ]
  },
  {
   "cell_type": "code",
   "execution_count": 99,
   "metadata": {},
   "outputs": [
    {
     "name": "stdout",
     "output_type": "stream",
     "text": [
      "深山一日秋，一树一枝红。\n",
      "度日不可见，一声无限情。\n",
      "学人不知我，不见一时归。\n",
      "习客不可见，相思不可闻。\n",
      "\n"
     ]
    }
   ],
   "source": [
    "start_words_acrostic = '深度学习'  # 唐诗的“头”\n",
    "max_gen_len_acrostic = 120               # 生成唐诗的最长长度\n",
    "prefix_words = None\n",
    "results_acrostic = gen_acrostic(model, start_words_acrostic, ix2word, word2ix,prefix_words)\n",
    "\n",
    "poetry = ''\n",
    "for word in results_acrostic:\n",
    "    poetry += word\n",
    "    if word == '。' or word == '!':\n",
    "        poetry += '\\n'\n",
    "        \n",
    "print(poetry)"
   ]
  },
  {
   "cell_type": "code",
   "execution_count": 108,
   "metadata": {},
   "outputs": [
    {
     "data": {
      "image/png": "[encoded data removed]",
      "text/plain": [
       "<Figure size 432x288 with 1 Axes>"
      ]
     },
     "metadata": {
      "needs_background": "light"
     },
     "output_type": "display_data"
    }
   ],
   "source": [
    "train_losses = [2.453792263394058, 2.1800180925433525, 2.094502791947646, 2.0401157700133514,2.036576960160526, 1.9964482630404716, 1.9738592076939234, 1.9599469747672522]\n",
    "def draw_plot(data,label,x,y):\n",
    "    plt.plot(data,label=label)\n",
    "    plt.xlabel(x, fontsize=14)\n",
    "    plt.ylabel(y, fontsize=14)\n",
    "    plt.legend()\n",
    "    \n",
    "draw_plot(train_losses,\"train_loss\",\"iteration\",\"loss\")"
   ]
  },
  {
   "cell_type": "code",
   "execution_count": null,
   "metadata": {},
   "outputs": [],
   "source": []
  }
 ],
 "metadata": {
  "kernelspec": {
   "display_name": "Python 3",
   "language": "python",
   "name": "python3"
  },
  "language_info": {
   "codemirror_mode": {
    "name": "ipython",
    "version": 3
   },
   "file_extension": ".py",
   "mimetype": "text/x-python",
   "name": "python",
   "nbconvert_exporter": "python",
   "pygments_lexer": "ipython3",
   "version": "3.7.6"
  }
 },
 "nbformat": 4,
 "nbformat_minor": 4
}
