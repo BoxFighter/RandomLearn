{
 "cells": [
  {
   "cell_type": "code",
   "execution_count": 31,
   "metadata": {},
   "outputs": [
    {
     "name": "stdout",
     "output_type": "stream",
     "text": [
      "55\n"
     ]
    }
   ],
   "source": [
    "import tensorflow.compat.v1 as tf\n",
    "tf.reset_default_graph()\n",
    "value = tf.Variable(0,name='value')\n",
    "res = tf.Variable(0,name='res')\n",
    "one = tf.constant(1)\n",
    "new_value = tf.add(value,one)\n",
    "update_value = tf.assign(value,new_value)\n",
    "temp_value = tf.add(res,value)\n",
    "update_res_value = tf.assign(res,temp_value)\n",
    "log_dir = 'log/'\n",
    "init = tf.global_variables_initializer()\n",
    "\n",
    "with tf.Session() as sess:\n",
    "    sess.run(init)\n",
    "    for _ in range(10):\n",
    "        sess.run(update_value)\n",
    "        sess.run(update_res_value)\n",
    "    print(sess.run(res))\n",
    "\n",
    "writer = tf.summary.FileWriter(log_dir,sess.graph)\n",
    "        \n",
    "        "
   ]
  },
  {
   "cell_type": "code",
   "execution_count": 17,
   "metadata": {},
   "outputs": [
    {
     "name": "stdout",
     "output_type": "stream",
     "text": [
      "请输入数字: 9\n",
      "45\n"
     ]
    }
   ],
   "source": [
    "\n",
    "value = tf.Variable(0,name=\"value\")\n",
    "sum = tf.Variable(0,name=\"sum\")\n",
    "one = tf.constant(1)\n",
    "tf.disable_v2_behavior()\n",
    "n = tf.placeholder(tf.int32,name='n') \n",
    "\n",
    "new_value = tf.add(value,one)\n",
    "update_value = tf.assign(value,new_value)\n",
    "new_sum = tf.add(sum,value)\n",
    "update_sum = tf.assign(sum,new_sum)\n",
    "    \n",
    "init = tf.global_variables_initializer()\n",
    "\n",
    "with tf.Session() as sess:\n",
    "    sess.run(init)\n",
    "    number = int(input(\"请输入数字: \"))\n",
    "    for i in range(number):\n",
    "        sess.run(update_value)\n",
    "        sess.run(update_sum)\n",
    "    result = sess.run(sum,feed_dict={n:number})\n",
    "    print(result)"
   ]
  },
  {
   "cell_type": "code",
   "execution_count": null,
   "metadata": {},
   "outputs": [],
   "source": []
  }
 ],
 "metadata": {
  "kernelspec": {
   "display_name": "Python 3",
   "language": "python",
   "name": "python3"
  },
  "language_info": {
   "codemirror_mode": {
    "name": "ipython",
    "version": 3
   },
   "file_extension": ".py",
   "mimetype": "text/x-python",
   "name": "python",
   "nbconvert_exporter": "python",
   "pygments_lexer": "ipython3",
   "version": "3.7.5"
  }
 },
 "nbformat": 4,
 "nbformat_minor": 2
}
