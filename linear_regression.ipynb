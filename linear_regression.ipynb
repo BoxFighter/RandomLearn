{
 "cells": [
  {
   "cell_type": "code",
   "execution_count": 2,
   "metadata": {},
   "outputs": [
    {
     "data": {
      "text/plain": [
       "'2.0.0'"
      ]
     },
     "execution_count": 2,
     "metadata": {},
     "output_type": "execute_result"
    }
   ],
   "source": [
    "import numpy as np\n",
    "import matplotlib.pyplot as plt\n",
    "import tensorflow.compat.v1 as tf\n",
    "\n",
    "# tf.enable_eager_execution()  # 在TensorFlow1.X版本中启用Eager Execution模式\n",
    "tf.disable_eager_execution()  # 在TensorFlow2.X版本关闭Eager Execution\n",
    "tf.__version__"
   ]
  },
  {
   "cell_type": "code",
   "execution_count": 68,
   "metadata": {},
   "outputs": [
    {
     "data": {
      "text/plain": [
       "<matplotlib.legend.Legend at 0x64de22e90>"
      ]
     },
     "execution_count": 68,
     "metadata": {},
     "output_type": "execute_result"
    },
    {
     "data": {
      "image/png": "[encoded data removed]",
      "text/plain": [
       "<Figure size 576x360 with 1 Axes>"
      ]
     },
     "metadata": {
      "needs_background": "light"
     },
     "output_type": "display_data"
    }
   ],
   "source": [
    "x_data = np.linspace(0, 100, 500)\n",
    "y_data = 3 * x_data + 2 + np.random.randn(500) * 0.5\n",
    "\n",
    "plt.figure(figsize=[8, 5])\n",
    "plt.plot(x_data, y_data, 'r.', markersize=3)\n",
    "plt.plot(x_data, 3 * x_data + 2, 'b-')\n",
    "plt.legend(['y_data', 'y=3*x+2'])"
   ]
  },
  {
   "cell_type": "code",
   "execution_count": 5,
   "metadata": {},
   "outputs": [
    {
     "name": "stdout",
     "output_type": "stream",
     "text": [
      "WARNING:tensorflow:From /opt/anaconda3/envs/tensorflow/lib/python3.7/site-packages/tensorflow_core/python/ops/resource_variable_ops.py:1630: calling BaseResourceVariable.__init__ (from tensorflow.python.ops.resource_variable_ops) with constraint is deprecated and will be removed in a future version.\n",
      "Instructions for updating:\n",
      "If using Keras pass *_constraint arguments to layers.\n"
     ]
    }
   ],
   "source": [
    "x = tf.placeholder('float', name='x')\n",
    "y = tf.placeholder('float', name='y')\n",
    "w = tf.Variable(1.0, name='w0')\n",
    "b = tf.Variable(1.0, name='b0')\n",
    "def model(x, w, b):\n",
    "    return x * w + b\n",
    "pred = model(x, w, b)"
   ]
  },
  {
   "cell_type": "code",
   "execution_count": 62,
   "metadata": {},
   "outputs": [
    {
     "name": "stdout",
     "output_type": "stream",
     "text": [
      "Train Epoch: 01, Step: 050, loss=233.185546875\n",
      "Train Epoch: 01, Step: 100, loss=10.291950226\n",
      "Train Epoch: 01, Step: 150, loss=0.018804839\n",
      "Train Epoch: 01, Step: 200, loss=1.673366666\n",
      "Train Epoch: 01, Step: 250, loss=0.098391958\n",
      "Train Epoch: 01, Step: 300, loss=0.149291873\n",
      "Train Epoch: 01, Step: 350, loss=0.071084529\n",
      "Train Epoch: 01, Step: 400, loss=2.497852564\n",
      "Train Epoch: 01, Step: 450, loss=1.126896858\n",
      "Train Epoch: 01, Step: 500, loss=0.044032350\n",
      "Train Epoch: 02, Step: 550, loss=0.483016610\n",
      "Train Epoch: 02, Step: 600, loss=0.113130979\n",
      "Train Epoch: 02, Step: 650, loss=0.017406875\n",
      "Train Epoch: 02, Step: 700, loss=1.673642993\n",
      "Train Epoch: 02, Step: 750, loss=0.098353676\n",
      "Train Epoch: 02, Step: 800, loss=0.149315447\n",
      "Train Epoch: 02, Step: 850, loss=0.071100801\n",
      "Train Epoch: 02, Step: 900, loss=2.497756004\n",
      "Train Epoch: 02, Step: 950, loss=1.126896858\n",
      "Train Epoch: 02, Step: 1000, loss=0.044006739\n",
      "Train Epoch: 03, Step: 1050, loss=0.478098005\n",
      "Train Epoch: 03, Step: 1100, loss=0.113747694\n",
      "Train Epoch: 03, Step: 1150, loss=0.017485477\n",
      "Train Epoch: 03, Step: 1200, loss=1.673939109\n",
      "Train Epoch: 03, Step: 1250, loss=0.098315395\n",
      "Train Epoch: 03, Step: 1300, loss=0.149339035\n",
      "Train Epoch: 03, Step: 1350, loss=0.071117081\n",
      "Train Epoch: 03, Step: 1400, loss=2.497756004\n",
      "Train Epoch: 03, Step: 1450, loss=1.126961589\n",
      "Train Epoch: 03, Step: 1500, loss=0.044070780\n",
      "Train Epoch: 04, Step: 1550, loss=0.473228157\n",
      "Train Epoch: 04, Step: 1600, loss=0.114358336\n",
      "Train Epoch: 04, Step: 1650, loss=0.017564258\n",
      "Train Epoch: 04, Step: 1700, loss=1.674195766\n",
      "Train Epoch: 04, Step: 1750, loss=0.098286688\n",
      "Train Epoch: 04, Step: 1800, loss=0.149362624\n",
      "Train Epoch: 04, Step: 1850, loss=0.071125217\n",
      "Train Epoch: 04, Step: 1900, loss=2.497707844\n",
      "Train Epoch: 04, Step: 1950, loss=1.127026439\n",
      "Train Epoch: 04, Step: 2000, loss=0.044057969\n",
      "Train Epoch: 05, Step: 2050, loss=0.468440682\n",
      "Train Epoch: 05, Step: 2100, loss=0.114968032\n",
      "Train Epoch: 05, Step: 2150, loss=0.017643213\n",
      "Train Epoch: 05, Step: 2200, loss=1.674531460\n",
      "Train Epoch: 05, Step: 2250, loss=0.098248422\n",
      "Train Epoch: 05, Step: 2300, loss=0.149386212\n",
      "Train Epoch: 05, Step: 2350, loss=0.071133360\n",
      "Train Epoch: 05, Step: 2400, loss=2.497707844\n",
      "Train Epoch: 05, Step: 2450, loss=1.127026439\n",
      "Train Epoch: 05, Step: 2500, loss=0.043993935\n",
      "Train Epoch: 06, Step: 2550, loss=0.463721693\n",
      "Train Epoch: 06, Step: 2600, loss=0.115579352\n",
      "Train Epoch: 06, Step: 2650, loss=0.017722348\n",
      "Train Epoch: 06, Step: 2700, loss=1.674788117\n",
      "Train Epoch: 06, Step: 2750, loss=0.098219730\n",
      "Train Epoch: 06, Step: 2800, loss=0.149409801\n",
      "Train Epoch: 06, Step: 2850, loss=0.071149640\n",
      "Train Epoch: 06, Step: 2900, loss=2.497707844\n",
      "Train Epoch: 06, Step: 2950, loss=1.126961589\n",
      "Train Epoch: 06, Step: 3000, loss=0.044083595\n",
      "Train Epoch: 07, Step: 3050, loss=0.459026605\n",
      "Train Epoch: 07, Step: 3100, loss=0.116179287\n",
      "Train Epoch: 07, Step: 3150, loss=0.017797586\n",
      "Train Epoch: 07, Step: 3200, loss=1.675084352\n",
      "Train Epoch: 07, Step: 3250, loss=0.098181479\n",
      "Train Epoch: 07, Step: 3300, loss=0.149445191\n",
      "Train Epoch: 07, Step: 3350, loss=0.071165919\n",
      "Train Epoch: 07, Step: 3400, loss=2.497659683\n",
      "Train Epoch: 07, Step: 3450, loss=1.127026439\n",
      "Train Epoch: 07, Step: 3500, loss=0.044096410\n",
      "Train Epoch: 08, Step: 3550, loss=0.454429984\n",
      "Train Epoch: 08, Step: 3600, loss=0.116780780\n",
      "Train Epoch: 08, Step: 3650, loss=0.017872984\n",
      "Train Epoch: 08, Step: 3700, loss=1.675360799\n",
      "Train Epoch: 08, Step: 3750, loss=0.098152786\n",
      "Train Epoch: 08, Step: 3800, loss=0.149445191\n",
      "Train Epoch: 08, Step: 3850, loss=0.071157776\n",
      "Train Epoch: 08, Step: 3900, loss=2.497514963\n",
      "Train Epoch: 08, Step: 3950, loss=1.127091169\n",
      "Train Epoch: 08, Step: 4000, loss=0.044070780\n",
      "Train Epoch: 09, Step: 4050, loss=0.449879527\n",
      "Train Epoch: 09, Step: 4100, loss=0.117373362\n",
      "Train Epoch: 09, Step: 4150, loss=0.017950587\n",
      "Train Epoch: 09, Step: 4200, loss=1.675617576\n",
      "Train Epoch: 09, Step: 4250, loss=0.098114550\n",
      "Train Epoch: 09, Step: 4300, loss=0.149480596\n",
      "Train Epoch: 09, Step: 4350, loss=0.071165919\n",
      "Train Epoch: 09, Step: 4400, loss=2.497514963\n",
      "Train Epoch: 09, Step: 4450, loss=1.127026439\n",
      "Train Epoch: 09, Step: 4500, loss=0.044096410\n",
      "Train Epoch: 10, Step: 4550, loss=0.445379972\n",
      "Train Epoch: 10, Step: 4600, loss=0.117972687\n",
      "Train Epoch: 10, Step: 4650, loss=0.018026307\n",
      "Train Epoch: 10, Step: 4700, loss=1.675874352\n",
      "Train Epoch: 10, Step: 4750, loss=0.098085873\n",
      "Train Epoch: 10, Step: 4800, loss=0.149504185\n",
      "Train Epoch: 10, Step: 4850, loss=0.071182199\n",
      "Train Epoch: 10, Step: 4900, loss=2.497514963\n",
      "Train Epoch: 10, Step: 4950, loss=1.127091169\n",
      "Train Epoch: 10, Step: 5000, loss=0.044096410\n",
      "3.010151\n",
      "1.2550308\n"
     ]
    }
   ],
   "source": [
    "train_epochs = 10\n",
    "learning_rate = 0.0001\n",
    "display_step = 50\n",
    "loss_function = tf.reduce_mean(tf.square(y - pred))\n",
    "optimizer = tf.train.GradientDescentOptimizer(learning_rate).minimize(loss_function)\n",
    "sess = tf.Session()\n",
    "init = tf.global_variables_initializer()\n",
    "loss_list = []\n",
    "step = 0\n",
    "sess.run(init)\n",
    "for epoch in range(train_epochs):\n",
    "    for xs, ys in zip(x_data, y_data):\n",
    "        _, loss = sess.run([optimizer, loss_function], feed_dict={x: xs, y: ys})\n",
    "        bt=b.eval(session=sess)\n",
    "        wt=w.eval(session=sess)\n",
    "        loss_list.append(loss)\n",
    "        step += 1\n",
    "        if step % display_step == 0:\n",
    "            print(f'Train Epoch: {epoch+1:02d}, Step: {step:03d}, loss={loss:.9f}')\n",
    "print(sess.run(w))\n",
    "print(sess.run(b))"
   ]
  },
  {
   "cell_type": "code",
   "execution_count": 64,
   "metadata": {},
   "outputs": [
    {
     "data": {
      "text/plain": [
       "[<matplotlib.lines.Line2D at 0x64d80b550>]"
      ]
     },
     "execution_count": 64,
     "metadata": {},
     "output_type": "execute_result"
    },
    {
     "data": {
      "image/png": "[encoded data removed]",
      "text/plain": [
       "<Figure size 432x288 with 1 Axes>"
      ]
     },
     "metadata": {
      "needs_background": "light"
     },
     "output_type": "display_data"
    }
   ],
   "source": [
    "plt.plot(loss_list,'g+')"
   ]
  },
  {
   "cell_type": "code",
   "execution_count": 57,
   "metadata": {},
   "outputs": [
    {
     "name": "stdout",
     "output_type": "stream",
     "text": [
      "当x=5.79时，目标值为19.37，模型预测值为19.059463500976562\n"
     ]
    }
   ],
   "source": [
    "x_test = 5.79\n",
    "y_hat = sess.run(model(x_test, w, b))\n",
    "y_target = 3 * x_test + 2\n",
    "print(f'当x=5.79时，目标值为{y_target}，模型预测值为{y_hat}')"
   ]
  },
  {
   "cell_type": "code",
   "execution_count": 32,
   "metadata": {},
   "outputs": [],
   "source": [
    "logdir = './log'\n",
    "tf.summary.FileWriter(logdir, tf.get_default_graph()).close()"
   ]
  }
 ],
 "metadata": {
  "kernelspec": {
   "display_name": "Python 3",
   "language": "python",
   "name": "python3"
  },
  "language_info": {
   "codemirror_mode": {
    "name": "ipython",
    "version": 3
   },
   "file_extension": ".py",
   "mimetype": "text/x-python",
   "name": "python",
   "nbconvert_exporter": "python",
   "pygments_lexer": "ipython3",
   "version": "3.7.5"
  }
 },
 "nbformat": 4,
 "nbformat_minor": 2
}
